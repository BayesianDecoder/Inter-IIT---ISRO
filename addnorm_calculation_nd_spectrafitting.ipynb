{
 "cells": [
  {
   "cell_type": "code",
   "execution_count": 13,
   "metadata": {},
   "outputs": [
    {
     "name": "stdout",
     "output_type": "stream",
     "text": [
      "Filename: /home/ka/Downloads/fv5.5.2/tbmodel_20210827T210316000_20210827T210332000.fits\n",
      "No.    Name      Ver    Type      Cards   Dimensions   Format\n",
      "  0  PRIMARY       1 PrimaryHDU      11   ()      \n",
      "  1  PARAMETERS    1 BinTableHDU     35   1R x 10C   [7A, 1I, 1I, 1E, 1I, 1I, 1E, 1E, 1I, 1I]   \n",
      "  2  ENERGIES      1 BinTableHDU     17   3000R x 2C   [1E, 1E]   \n",
      "  3  SPECTRA       1 BinTableHDU     17   15R x 2C   [1E, 3000E]   \n",
      "SPECTRA Columns: ['paramval', 'INTPSPEC']\n",
      "ENERGIES Columns: ['ENERG_LO', 'ENERG_HI']\n",
      "ADNORM scaling factor: 3.1640448511589367\n",
      "Scaled INTPSPEC: [ 1.0156584   1.02198648  1.02831458 ... 19.98094372 19.98727075\n",
      " 19.99360019]\n"
     ]
    }
   ],
   "source": [
    "from astropy.io import fits\n",
    "import numpy as np\n",
    "from scipy.interpolate import interp1d\n",
    "\n",
    "# Open the FITS file\n",
    "fits_file_path = '/home/ka/Downloads/fv5.5.2/tbmodel_20210827T210316000_20210827T210332000.fits'\n",
    "with fits.open(fits_file_path) as hdul:\n",
    "    # Inspect the structure of the FITS file\n",
    "    hdul.info()\n",
    "\n",
    "    # Access the SPECTRA and ENERGIES tables\n",
    "    spectra_data = hdul[3].data\n",
    "    energies_data = hdul[2].data\n",
    "\n",
    "    # Print column names to identify correct ones\n",
    "    print(\"SPECTRA Columns:\", spectra_data.columns.names)\n",
    "    print(\"ENERGIES Columns:\", energies_data.columns.names)\n",
    "\n",
    "    # Extract observed INTPSPEC data from SPECTRA and energies from ENERGIES table\n",
    "    observed_intspec = spectra_data['INTPSPEC']  # INTPSPEC column for observed spectrum\n",
    "    observed_energy_bins = (energies_data['ENERG_LO'] + energies_data['ENERG_HI']) / 2  # Average of low and high energy bounds\n",
    "\n",
    "# Load your simulated data (scattered_photons or similar)\n",
    "# Assuming 'scattered_photons' and 'simulated_energy_bins' are available in your script\n",
    "simulated_energy_bins = np.array([1.0, 2.0, 3.0])  # Example energy bins for simulated data\n",
    "scattered_photons = np.array([0.5, 0.7, 0.9])  # Example simulated data for scattered photons\n",
    "\n",
    "# Interpolate scattered_photons to match the observed energy bins\n",
    "interpolator = interp1d(simulated_energy_bins, scattered_photons, kind='linear', fill_value='extrapolate')\n",
    "interpolated_scattered_photons = interpolator(observed_energy_bins)\n",
    "\n",
    "# Compute ADNORM scaling factor\n",
    "sum_observed = np.sum(observed_intspec)\n",
    "sum_simulated = np.sum(interpolated_scattered_photons)\n",
    "adnorm = sum_observed / sum_simulated\n",
    "\n",
    "# Scale the simulated spectrum to match the observed data\n",
    "scaled_intpspec = interpolated_scattered_photons * adnorm\n",
    "\n",
    "# Print the results\n",
    "print(\"ADNORM scaling factor:\", adnorm)\n",
    "print(\"Scaled INTPSPEC:\", scaled_intpspec)\n"
   ]
  },
  {
   "cell_type": "code",
   "execution_count": 14,
   "metadata": {},
   "outputs": [
    {
     "name": "stdout",
     "output_type": "stream",
     "text": [
      "PRIMARY\n",
      "PARAMETERS\n",
      "ENERGIES\n",
      "SPECTRA\n"
     ]
    }
   ],
   "source": [
    "# Open the FITS file and list all extensions\n",
    "hdul = fits.open(fits_file)\n",
    "for hdu in hdul:\n",
    "    print(hdu.name)\n",
    "hdul.close()\n"
   ]
  },
  {
   "cell_type": "code",
   "execution_count": 15,
   "metadata": {},
   "outputs": [
    {
     "name": "stdout",
     "output_type": "stream",
     "text": [
      "FITS file created successfully at '/home/ka/Downloads/fv5.5.2/scattered_solar_spectrum_model_v3.fits'.\n"
     ]
    }
   ],
   "source": [
    "from astropy.io import fits\n",
    "import numpy as np\n",
    "\n",
    "# Load the observed data from the FITS file\n",
    "fits_file = '/home/ka/Downloads/fv5.5.2/tbmodel_20210827T210316000_20210827T210332000.fits'\n",
    "hdul = fits.open(fits_file)\n",
    "\n",
    "# Retrieve SPECTRA and ENERGIES data\n",
    "spectra_hdu = hdul['SPECTRA']\n",
    "energies_hdu = hdul['ENERGIES']\n",
    "\n",
    "# Extract the parameter and intensity data\n",
    "paramval = spectra_hdu.data['paramval']\n",
    "intpspec = spectra_hdu.data['INTPSPEC']\n",
    "energy_lo = energies_hdu.data['ENERG_LO']\n",
    "energy_hi = energies_hdu.data['ENERG_HI']\n",
    "\n",
    "# Apply the ADNORM scaling factor\n",
    "scaling_factor = 0.9640448511589367\n",
    "scaled_intpspec = intpspec * scaling_factor\n",
    "\n",
    "# Create the PRIMARY HDU (Header Data Unit) with basic metadata\n",
    "primary_hdu = fits.PrimaryHDU()\n",
    "primary_hdu.header['MODLNAME'] = 'scattered_solar'\n",
    "primary_hdu.header['MODLUNIT'] = 'photons/cm^2/s'\n",
    "primary_hdu.header['ADDMODEL'] = True\n",
    "primary_hdu.header['HDUCLASS'] = 'OGIP'\n",
    "primary_hdu.header['HDUCLAS1'] = 'XSPEC TABLE MODEL'\n",
    "primary_hdu.header['HDUVERS'] = '1.1.0'\n",
    "\n",
    "# Define PARAMETERS extension\n",
    "param_data = np.array([\n",
    "    ('scaling_factor', 0, 1.0, 0.1, 0.0, 0.0, 10.0, 10.0, 1, [1.0])\n",
    "], dtype=[\n",
    "    ('NAME', 'S12'), ('METHOD', 'i4'), ('INITIAL', 'f4'), ('DELTA', 'f4'),\n",
    "    ('MINIMUM', 'f4'), ('BOTTOM', 'f4'), ('TOP', 'f4'), ('MAXIMUM', 'f4'),\n",
    "    ('NUMBVALS', 'i4'), ('VALUE', 'f4', (1,))\n",
    "])\n",
    "param_cols = fits.ColDefs([\n",
    "    fits.Column(name='NAME', format='12A', array=param_data['NAME']),\n",
    "    fits.Column(name='METHOD', format='J', array=param_data['METHOD']),\n",
    "    fits.Column(name='INITIAL', format='E', array=param_data['INITIAL']),\n",
    "    fits.Column(name='DELTA', format='E', array=param_data['DELTA']),\n",
    "    fits.Column(name='MINIMUM', format='E', array=param_data['MINIMUM']),\n",
    "    fits.Column(name='BOTTOM', format='E', array=param_data['BOTTOM']),\n",
    "    fits.Column(name='TOP', format='E', array=param_data['TOP']),\n",
    "    fits.Column(name='MAXIMUM', format='E', array=param_data['MAXIMUM']),\n",
    "    fits.Column(name='NUMBVALS', format='J', array=param_data['NUMBVALS']),\n",
    "    fits.Column(name='VALUE', format='E', array=param_data['VALUE'])\n",
    "])\n",
    "param_hdu = fits.BinTableHDU.from_columns(param_cols)\n",
    "param_hdu.header['HDUCLASS'] = 'OGIP'\n",
    "param_hdu.header['HDUCLAS1'] = 'XSPEC TABLE MODEL'\n",
    "param_hdu.header['HDUCLAS2'] = 'PARAMETERS'\n",
    "param_hdu.header['HDUVERS'] = '1.0.0'\n",
    "\n",
    "# Define ENERGIES extension (Energy bin limits)\n",
    "col_energy = fits.ColDefs([\n",
    "    fits.Column(name='ENERG_LO', format='E', array=energy_lo),\n",
    "    fits.Column(name='ENERG_HI', format='E', array=energy_hi)\n",
    "])\n",
    "energy_hdu = fits.BinTableHDU.from_columns(col_energy)\n",
    "energy_hdu.header['HDUCLASS'] = 'OGIP'\n",
    "energy_hdu.header['HDUCLAS1'] = 'XSPEC TABLE MODEL'\n",
    "energy_hdu.header['HDUCLAS2'] = 'ENERGIES'\n",
    "energy_hdu.header['HDUVERS'] = '1.0.0'\n",
    "\n",
    "# Define SPECTRA extension with PARAMVAL and scaled INTPSPEC\n",
    "spectrum_cols = fits.ColDefs([\n",
    "    fits.Column(name='PARAMVAL', format='E', array=paramval),  # PARAMVAL values from 0.0 to 1.4\n",
    "    fits.Column(name='INTPSPEC', format=f'{intpspec.shape[1]}E', array=scaled_intpspec)  # 3000 energy bins\n",
    "])\n",
    "spectrum_hdu = fits.BinTableHDU.from_columns(spectrum_cols)\n",
    "spectrum_hdu.header['HDUCLASS'] = 'OGIP'\n",
    "spectrum_hdu.header['HDUCLAS1'] = 'XSPEC TABLE MODEL'\n",
    "spectrum_hdu.header['HDUCLAS2'] = 'MODEL SPECTRA'\n",
    "spectrum_hdu.header['HDUVERS'] = '1.0.0'\n",
    "\n",
    "# Create HDU list and save the FITS file\n",
    "output_path = '/home/ka/Downloads/fv5.5.2/scattered_solar_spectrum_model_v3.fits'\n",
    "hdul = fits.HDUList([primary_hdu, param_hdu, energy_hdu, spectrum_hdu])\n",
    "hdul.writeto(output_path, overwrite=True)\n",
    "\n",
    "print(f\"FITS file created successfully at '{output_path}'.\")\n"
   ]
  },
  {
   "cell_type": "code",
   "execution_count": null,
   "metadata": {},
   "outputs": [],
   "source": []
  }
 ],
 "metadata": {
  "kernelspec": {
   "display_name": "Python 3",
   "language": "python",
   "name": "python3"
  },
  "language_info": {
   "codemirror_mode": {
    "name": "ipython",
    "version": 3
   },
   "file_extension": ".py",
   "mimetype": "text/x-python",
   "name": "python",
   "nbconvert_exporter": "python",
   "pygments_lexer": "ipython3",
   "version": "3.12.3"
  }
 },
 "nbformat": 4,
 "nbformat_minor": 2
}
